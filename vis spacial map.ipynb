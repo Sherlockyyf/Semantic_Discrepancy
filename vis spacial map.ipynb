{
 "cells": [
  {
   "cell_type": "code",
   "execution_count": 6,
   "id": "e0ddf96a-037f-4de2-9acd-1f32826ce6f9",
   "metadata": {
    "tags": []
   },
   "outputs": [],
   "source": [
    "import os\n",
    "import torch\n",
    "from einops import rearrange\n",
    "from visualize import visualize_grid_attention_v2\n",
    "import numpy as np\n",
    "from PIL import Image\n",
    "from torchvision import transforms as T\n",
    "from sklearn.decomposition import PCA\n",
    "from math import sqrt"
   ]
  },
  {
   "cell_type": "code",
   "execution_count": 7,
   "id": "a59f4db4-7319-42ba-be4e-76bd043d6035",
   "metadata": {
    "tags": []
   },
   "outputs": [],
   "source": [
    "# feature_maps_path = \"/home/yfyuan/YYF/Rerender/exp/spacial/cond/\"\n",
    "feature_maps_path = \"/home/yfyuan/YYF/Rerender/exp/attn_map/inv_input_block_spatial_map\"\n",
    "pca = PCA(n_components=3)"
   ]
  },
  {
   "cell_type": "code",
   "execution_count": 70,
   "id": "6885f1fa-4be0-4869-98e9-c8143558fe8c",
   "metadata": {
    "tags": []
   },
   "outputs": [],
   "source": [
    "# feature_type = \"input_block\" # 1 2 4 5 7 8 10 11\n",
    "feature_type = \"output_block\" # 0 1 2 3 4 5 6 7 8 9 10 11 \n",
    "# block idx\n",
    "pos = \"out\"\n",
    "# pos = \"in\"\n",
    "block_idx = 9\n",
    "# i is step\n",
    "i = 15"
   ]
  },
  {
   "cell_type": "code",
   "execution_count": 71,
   "id": "4a34faea-0fe0-4204-9ef4-519faee6b56c",
   "metadata": {
    "tags": []
   },
   "outputs": [
    {
     "name": "stdout",
     "output_type": "stream",
     "text": [
      "torch.Size([4608, 320])\n"
     ]
    }
   ],
   "source": [
    "# feature_map = torch.load(os.path.join(feature_maps_path, f\"{feature_type}_{block_idx}_{pos}_layers_features_time_{1}.pt\"))[0]\n",
    "feature_map = torch.load(os.path.join(feature_maps_path, f\"{feature_type}_{block_idx}_self_attn_{pos}_time_{1}.pt\"))[0]\n",
    "# feature_map = torch.load(os.path.join(feature_maps_path, f\"output_block_9_self_attn_in_time_1.pt\"))[0]\n",
    "# output_block_9_self_attn_in_time_1.pt\n",
    "print(feature_map.shape)\n",
    "# feature_map = feature_map.reshape(feature_map.shape[0], -1).t()\n",
    "# print(feature_map.shape)\n",
    "feature_map = feature_map.cpu().numpy()\n",
    "pca.fit(feature_map)\n",
    "feature_maps_pca = pca.transform(feature_map)\n",
    "feature_maps_pca = feature_maps_pca.reshape(1, -1, 3)\n",
    "pca_img_ = feature_maps_pca[0]"
   ]
  },
  {
   "cell_type": "code",
   "execution_count": 72,
   "id": "4c05ea97-7676-432c-8628-7597f00b2d1c",
   "metadata": {
    "tags": []
   },
   "outputs": [
    {
     "name": "stdout",
     "output_type": "stream",
     "text": [
      "4608 64 72\n"
     ]
    }
   ],
   "source": [
    "n = pca_img_.shape[0]\n",
    "h = 1\n",
    "w = 1\n",
    "for i in range(1,int(sqrt(n))+1):\n",
    "    if(n % i == 0):\n",
    "        if(n // h >= w):\n",
    "            h = i\n",
    "            w = n // h\n",
    "print(n,h,w)"
   ]
  },
  {
   "cell_type": "code",
   "execution_count": 73,
   "id": "db7d9a0c-5400-4b5c-8033-4291574f1537",
   "metadata": {
    "tags": []
   },
   "outputs": [
    {
     "data": {
      "text/plain": [
       "(4608, 3)"
      ]
     },
     "execution_count": 73,
     "metadata": {},
     "output_type": "execute_result"
    }
   ],
   "source": [
    "pca_img_.shape"
   ]
  },
  {
   "cell_type": "code",
   "execution_count": 74,
   "id": "fa3566de-c659-438b-845b-76cc458126a9",
   "metadata": {
    "tags": []
   },
   "outputs": [
    {
     "name": "stdout",
     "output_type": "stream",
     "text": [
      "(64, 72, 3)\n"
     ]
    }
   ],
   "source": [
    "h1 = int(h*0.9)\n",
    "w1 = int(w*0.4)\n",
    "h2 = int(h*0.9)\n",
    "w2 = int(w*0.9)\n",
    "\n",
    "h3 = int(h*0.8)\n",
    "w3 = int(w*0.8)\n",
    "pca_img = pca_img_.reshape(h, w, 3)\n",
    "pca_img_min = pca_img.min(axis=(0, 1))\n",
    "pca_img_max = pca_img.max(axis=(0, 1))\n",
    "pca_img = (pca_img - pca_img_min) / (pca_img_max - pca_img_min)\n",
    "# pca_img[h1:h1+4,w1:w1+4,:] = 0.\n",
    "# pca_img[h2:h2+4,w2:w2+4,:] = 0.\n",
    "# pca_img[h3:h3+4,w3:w3+4,:] = 1.\n",
    "print(pca_img.shape)\n",
    "pca_img = Image.fromarray((pca_img * 255).astype(np.uint8))\n",
    "pca_img = T.Resize(512, interpolation=T.InterpolationMode.NEAREST)(pca_img)"
   ]
  },
  {
   "cell_type": "code",
   "execution_count": 69,
   "id": "2ad37345-bf83-46b7-90e5-cbc3fed34faa",
   "metadata": {
    "tags": []
   },
   "outputs": [
    {
     "data": {
      "image/png": "[encoded data removed]",
      "text/plain": [
       "<PIL.Image.Image image mode=RGB size=576x512>"
      ]
     },
     "metadata": {},
     "output_type": "display_data"
    }
   ],
   "source": [
    "display(pca_img)"
   ]
  },
  {
   "cell_type": "code",
   "execution_count": 75,
   "id": "675a3ee5-3eb1-417d-886d-6d43d9e04f0a",
   "metadata": {
    "tags": []
   },
   "outputs": [
    {
     "data": {
      "image/png": "[encoded data removed]",
      "text/plain": [
       "<PIL.Image.Image image mode=RGB size=576x512>"
      ]
     },
     "metadata": {},
     "output_type": "display_data"
    }
   ],
   "source": [
    "display(pca_img)"
   ]
  },
  {
   "cell_type": "code",
   "execution_count": 283,
   "id": "5a66c977-7da3-421e-9aa2-28795bd2a2ce",
   "metadata": {},
   "outputs": [],
   "source": [
    "a = torch.ones((5,6,10))"
   ]
  },
  {
   "cell_type": "code",
   "execution_count": 284,
   "id": "ba7c07cc-918c-4cb7-aced-d97abc39ebbf",
   "metadata": {
    "tags": []
   },
   "outputs": [],
   "source": [
    "b = torch.zeros((5,3,10))"
   ]
  },
  {
   "cell_type": "code",
   "execution_count": 285,
   "id": "6aa9cba3-0cbf-4ec9-b591-dea96c86f0b3",
   "metadata": {
    "tags": []
   },
   "outputs": [],
   "source": [
    "a[:,:b.shape[1],...] = b"
   ]
  },
  {
   "cell_type": "code",
   "execution_count": 286,
   "id": "9ccfc989-1e17-4613-b4e1-58934b576673",
   "metadata": {
    "tags": []
   },
   "outputs": [
    {
     "name": "stdout",
     "output_type": "stream",
     "text": [
      "tensor([[[0., 0., 0., 0., 0., 0., 0., 0., 0., 0.],\n",
      "         [0., 0., 0., 0., 0., 0., 0., 0., 0., 0.],\n",
      "         [0., 0., 0., 0., 0., 0., 0., 0., 0., 0.],\n",
      "         [1., 1., 1., 1., 1., 1., 1., 1., 1., 1.],\n",
      "         [1., 1., 1., 1., 1., 1., 1., 1., 1., 1.],\n",
      "         [1., 1., 1., 1., 1., 1., 1., 1., 1., 1.]],\n",
      "\n",
      "        [[0., 0., 0., 0., 0., 0., 0., 0., 0., 0.],\n",
      "         [0., 0., 0., 0., 0., 0., 0., 0., 0., 0.],\n",
      "         [0., 0., 0., 0., 0., 0., 0., 0., 0., 0.],\n",
      "         [1., 1., 1., 1., 1., 1., 1., 1., 1., 1.],\n",
      "         [1., 1., 1., 1., 1., 1., 1., 1., 1., 1.],\n",
      "         [1., 1., 1., 1., 1., 1., 1., 1., 1., 1.]],\n",
      "\n",
      "        [[0., 0., 0., 0., 0., 0., 0., 0., 0., 0.],\n",
      "         [0., 0., 0., 0., 0., 0., 0., 0., 0., 0.],\n",
      "         [0., 0., 0., 0., 0., 0., 0., 0., 0., 0.],\n",
      "         [1., 1., 1., 1., 1., 1., 1., 1., 1., 1.],\n",
      "         [1., 1., 1., 1., 1., 1., 1., 1., 1., 1.],\n",
      "         [1., 1., 1., 1., 1., 1., 1., 1., 1., 1.]],\n",
      "\n",
      "        [[0., 0., 0., 0., 0., 0., 0., 0., 0., 0.],\n",
      "         [0., 0., 0., 0., 0., 0., 0., 0., 0., 0.],\n",
      "         [0., 0., 0., 0., 0., 0., 0., 0., 0., 0.],\n",
      "         [1., 1., 1., 1., 1., 1., 1., 1., 1., 1.],\n",
      "         [1., 1., 1., 1., 1., 1., 1., 1., 1., 1.],\n",
      "         [1., 1., 1., 1., 1., 1., 1., 1., 1., 1.]],\n",
      "\n",
      "        [[0., 0., 0., 0., 0., 0., 0., 0., 0., 0.],\n",
      "         [0., 0., 0., 0., 0., 0., 0., 0., 0., 0.],\n",
      "         [0., 0., 0., 0., 0., 0., 0., 0., 0., 0.],\n",
      "         [1., 1., 1., 1., 1., 1., 1., 1., 1., 1.],\n",
      "         [1., 1., 1., 1., 1., 1., 1., 1., 1., 1.],\n",
      "         [1., 1., 1., 1., 1., 1., 1., 1., 1., 1.]]])\n"
     ]
    }
   ],
   "source": [
    "print(a)"
   ]
  },
  {
   "cell_type": "code",
   "execution_count": 740,
   "id": "e4c70654-83c6-45f6-a4ad-24d630dac315",
   "metadata": {
    "tags": []
   },
   "outputs": [],
   "source": [
    "import torch\n",
    "import einops"
   ]
  },
  {
   "cell_type": "code",
   "execution_count": 746,
   "id": "cb05e167-990a-4285-b4bf-dae403b4b942",
   "metadata": {
    "tags": []
   },
   "outputs": [],
   "source": [
    "a = torch.tensor([1,2,3,4,5,6,7,8,9,10]).repeat(3,1)"
   ]
  },
  {
   "cell_type": "code",
   "execution_count": 747,
   "id": "5a3675c6-4ba8-4808-bdbc-d022dd2ce73d",
   "metadata": {
    "tags": []
   },
   "outputs": [
    {
     "data": {
      "text/plain": [
       "tensor([[ 1,  2,  3,  4,  5,  6,  7,  8,  9, 10],\n",
       "        [ 1,  2,  3,  4,  5,  6,  7,  8,  9, 10],\n",
       "        [ 1,  2,  3,  4,  5,  6,  7,  8,  9, 10]])"
      ]
     },
     "execution_count": 747,
     "metadata": {},
     "output_type": "execute_result"
    }
   ],
   "source": [
    "a"
   ]
  },
  {
   "cell_type": "code",
   "execution_count": 750,
   "id": "358442ff-43ce-4b98-a5d1-22aa5b027f1b",
   "metadata": {
    "tags": []
   },
   "outputs": [],
   "source": [
    "b = einops.rearrange(a,'b (h d) -> (b h) d', h=5)"
   ]
  },
  {
   "cell_type": "code",
   "execution_count": 751,
   "id": "a8e765a1-e8ce-4816-abe6-bcca4308e4c8",
   "metadata": {
    "tags": []
   },
   "outputs": [
    {
     "data": {
      "text/plain": [
       "tensor([[ 1,  2],\n",
       "        [ 3,  4],\n",
       "        [ 5,  6],\n",
       "        [ 7,  8],\n",
       "        [ 9, 10],\n",
       "        [ 1,  2],\n",
       "        [ 3,  4],\n",
       "        [ 5,  6],\n",
       "        [ 7,  8],\n",
       "        [ 9, 10],\n",
       "        [ 1,  2],\n",
       "        [ 3,  4],\n",
       "        [ 5,  6],\n",
       "        [ 7,  8],\n",
       "        [ 9, 10]])"
      ]
     },
     "execution_count": 751,
     "metadata": {},
     "output_type": "execute_result"
    }
   ],
   "source": [
    "b"
   ]
  },
  {
   "cell_type": "code",
   "execution_count": null,
   "id": "75b48e38-efbb-469d-9d33-8d04fe52ed2b",
   "metadata": {},
   "outputs": [],
   "source": []
  }
 ],
 "metadata": {
  "kernelspec": {
   "display_name": "v2v",
   "language": "python",
   "name": "v2v"
  },
  "language_info": {
   "codemirror_mode": {
    "name": "ipython",
    "version": 3
   },
   "file_extension": ".py",
   "mimetype": "text/x-python",
   "name": "python",
   "nbconvert_exporter": "python",
   "pygments_lexer": "ipython3",
   "version": "3.8.16"
  }
 },
 "nbformat": 4,
 "nbformat_minor": 5
}
